{
 "cells": [
  {
   "cell_type": "code",
   "execution_count": 2,
   "metadata": {},
   "outputs": [
    {
     "name": "stdout",
     "output_type": "stream",
     "text": [
      "size of the data (569, 30) (569,)\n"
     ]
    }
   ],
   "source": [
    "# import numpy as np\n",
    "# import pandas as pd\n",
    "# import re,math\n",
    "# import matplotlib.pyplot as plt\n",
    "# from scipy.stats import pearsonr\n",
    "# from sklearn import preprocessing\n",
    "from sklearn.datasets import load_breast_cancer\n",
    "from sklearn import svm\n",
    "from sklearn.model_selection import train_test_split\n",
    "from sklearn.model_selection import cross_val_score\n",
    "import scipy.io as scio\n",
    "\n",
    "# 读取数据\n",
    "# data = scio.loadmat(\"breast_cancer.mat\")\n",
    "# labels = data['labels'][0]\n",
    "# data1 = data['data']\n",
    "cancer = load_breast_cancer()\n",
    "X = cancer.data\n",
    "y = cancer.target\n",
    "print(\"size of the data\", X.shape, y.shape)"
   ]
  },
  {
   "cell_type": "code",
   "execution_count": 3,
   "metadata": {},
   "outputs": [
    {
     "name": "stdout",
     "output_type": "stream",
     "text": [
      "target_names: ['malignant' 'benign']\n",
      "feature_names: ['mean radius' 'mean texture' 'mean perimeter' 'mean area'\n",
      " 'mean smoothness' 'mean compactness' 'mean concavity'\n",
      " 'mean concave points' 'mean symmetry' 'mean fractal dimension'\n",
      " 'radius error' 'texture error' 'perimeter error' 'area error'\n",
      " 'smoothness error' 'compactness error' 'concavity error'\n",
      " 'concave points error' 'symmetry error' 'fractal dimension error'\n",
      " 'worst radius' 'worst texture' 'worst perimeter' 'worst area'\n",
      " 'worst smoothness' 'worst compactness' 'worst concavity'\n",
      " 'worst concave points' 'worst symmetry' 'worst fractal dimension'] 30\n",
      "Num of two classes: (212,) (357,)\n"
     ]
    }
   ],
   "source": [
    "#标签名称查看\n",
    "print(\"target_names:\", cancer.target_names)\n",
    "\n",
    "#特征数量和名称查看\n",
    "print('feature_names:', cancer.feature_names, len(cancer.feature_names))\n",
    "\n",
    "#查看阳性和阴性样本\n",
    "print(\"Num of two classes:\", y[y==0].shape, y[y==1].shape)"
   ]
  },
  {
   "cell_type": "code",
   "execution_count": 4,
   "metadata": {},
   "outputs": [],
   "source": [
    "# 数据集划分\n",
    "X_train,X_test,y_train,y_test = train_test_split(X,y,test_size=0.2,random_state=666,shuffle=True)"
   ]
  },
  {
   "cell_type": "code",
   "execution_count": 6,
   "metadata": {
    "scrolled": false
   },
   "outputs": [
    {
     "name": "stdout",
     "output_type": "stream",
     "text": [
      "0.956140350877193\n",
      "[0 1 1 1 0 0 1 1 0 1 1 1 1 1 1 1 1 1 1 1 0 0 1 1 1 1 1 0 1 0 0 1 1 0 0 1 1\n",
      " 0 0 1 0 1 0 1 1 0 1 1 0 1 1 0 0 1 1 0 0 1 1 0 1 0 1 0 1 1 1 1 0 0 1 1 0 1\n",
      " 1 1 1 1 1 0 0 0 0 1 0 1 1 0 1 1 1 1 1 0 1 1 0 1 0 1 1 0 0 1 0 1 0 0 1 1 0\n",
      " 1 1 0]\n",
      "[ -4.74987827   1.35244072   1.66425568   0.47742113  -4.13265902\n",
      "  -2.04327258   0.10416163   1.86657688  -2.08984649   1.75563799\n",
      "   1.62904764   1.26561896   0.23793715   0.62827122   0.91930746\n",
      "   2.11172669   1.52802869   1.54489571   1.02513078   1.26527739\n",
      "  -1.80756014  -0.39948804   1.43560399   1.16178986   1.53913784\n",
      "   1.48310855   1.99589921 -17.4449373    1.39877551 -18.36932745\n",
      "  -0.33602605   1.28177207   1.3628207   -9.46624785  -2.11367065\n",
      "   0.36320711   2.3482827   -8.02153034  -4.67313443   1.62822325\n",
      "  -0.50135844   1.99898233 -12.10196828   1.6186168    0.66673734\n",
      " -10.47092349   1.07906733   0.84837379  -6.74196802   1.02385281\n",
      "   1.5043311   -5.98226688  -9.64229621   1.93886695   1.77652679\n",
      "  -5.09886118  -1.97814367   0.44981723   2.04245437  -0.71618556\n",
      "   1.75597289  -0.24330511   0.68656466  -3.67755015   2.22126511\n",
      "   2.17220495   1.23810706   0.36560737 -10.99246928  -4.33370163\n",
      "   2.05819296   1.89230026  -0.47964539   1.53124717   0.92386827\n",
      "   2.03695231   0.76310879   0.44418455   0.55436022  -5.23141245\n",
      "  -7.54844042  -3.94256748  -5.21500624   1.23071538 -26.18115118\n",
      "   0.37630339   2.06319095  -3.66167038   2.24545381   1.7829271\n",
      "   2.01507113   1.31674093   0.58780582  -9.52549005   1.29460532\n",
      "   0.88578147  -1.9801082    1.7578532   -0.11397037   1.66478959\n",
      "   2.26123788  -7.50905816  -5.67921396   1.98079432  -2.3228584\n",
      "   1.62947449  -5.46806452  -8.59551405   2.05651251   2.11251291\n",
      "  -1.18519322   1.7517175    1.71488902  -2.28021574]\n"
     ]
    }
   ],
   "source": [
    "# 支持向量机的分类器的声明\n",
    "model = svm.SVC(kernel='poly', degree=2)\n",
    "clf = model.fit(X_train, y_train)\n",
    "\n",
    "# 测试并输出结果\n",
    "print(clf.score(X_test, y_test))\n",
    "print(clf.predict(X_test))\n",
    "\n",
    "y_score = model.decision_function(X_test)\n",
    "print(y_score)"
   ]
  },
  {
   "cell_type": "code",
   "execution_count": null,
   "metadata": {},
   "outputs": [],
   "source": []
  }
 ],
 "metadata": {
  "kernelspec": {
   "display_name": "Python 3",
   "language": "python",
   "name": "python3"
  },
  "language_info": {
   "codemirror_mode": {
    "name": "ipython",
    "version": 3
   },
   "file_extension": ".py",
   "mimetype": "text/x-python",
   "name": "python",
   "nbconvert_exporter": "python",
   "pygments_lexer": "ipython3",
   "version": "3.6.10"
  }
 },
 "nbformat": 4,
 "nbformat_minor": 4
}
